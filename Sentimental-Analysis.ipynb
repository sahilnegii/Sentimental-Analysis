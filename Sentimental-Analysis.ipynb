{
    "cells": [
        {
            "cell_type": "code",
            "execution_count": null,
            "metadata": {
                "azdata_cell_guid": "56b091d3-006b-463e-bf81-a8ae970444cd",
                "language": "python"
            },
            "outputs": [],
            "source": [
                "import csv\n",
                "import json\n",
                "import requests\n",
                "\n",
                "# Replace with your own subscription key and endpoint URL\n",
                "subscription_key = '*********************'\n",
                "endpoint = 'https://assign.cognitiveservices.azure.com/'\n",
                "\n",
                "# Define the API endpoint for sentiment analysis\n",
                "sentiment_url = endpoint + '/text/analytics/v3.0/sentiment'\n",
                "\n",
                "# Define the path to your Twitter dataset CSV file\n",
                "dataset_file = 'twitter_dataset.csv'\n",
                "\n",
                "# Read the tweets from the CSV file\n",
                "tweets = []\n",
                "with open(dataset_file, 'r') as csvfile:\n",
                "    reader = csv.DictReader(csvfile)\n",
                "    for row in reader:\n",
                "        tweets.append(row['text'])\n",
                "\n",
                "# Define the text to be analyzed\n",
                "documents = {\"documents\": []}\n",
                "for i, tweet in enumerate(tweets):\n",
                "    documents[\"documents\"].append({\"id\": str(i+1), \"language\": \"en\", \"text\": tweet})\n",
                "\n",
                "# Convert the documents dictionary to a JSON string\n",
                "documents = json.dumps(documents)\n",
                "\n",
                "# Define the headers and request parameters\n",
                "headers = {\"Ocp-Apim-Subscription-Key\": subscription_key, \"Content-Type\": \"application/json\"}\n",
                "params = {}\n",
                "\n",
                "# Call the Text Analytics API to perform sentiment analysis\n",
                "response = requests.post(sentiment_url, headers=headers, params=params, data=documents)\n",
                "\n",
                "# Parse the JSON response and print the sentiment score for each tweet\n",
                "sentiments = response.json()['documents']\n",
                "for sentiment in sentiments:\n",
                "    tweet_id = int(sentiment['id']) - 1\n",
                "    tweet = tweets[tweet_id]\n",
                "    score = sentiment['sentimentScores']['positive'] - sentiment['sentimentScores']['negative']\n",
                "    print('Tweet: {}\\nSentiment score: {:.2f}\\n'.format(tweet, score))"
            ]
        }
    ],
    "metadata": {
        "kernelspec": {
            "display_name": "Python 3 (ipykernel)",
            "language": "python",
            "name": "python3"
        },
        "language_info": {
            "codemirror_mode": {
                "name": "ipython",
                "version": 3
            },
            "file_extension": ".py",
            "mimetype": "text/x-python",
            "name": "python",
            "nbconvert_exporter": "python",
            "pygments_lexer": "ipython3",
            "version": "3.10.7"
        }
    },
    "nbformat": 4,
    "nbformat_minor": 2
}
